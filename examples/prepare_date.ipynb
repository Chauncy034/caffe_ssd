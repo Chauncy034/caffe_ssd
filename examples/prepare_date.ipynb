{
 "cells": [
  {
   "cell_type": "code",
   "execution_count": 1,
   "metadata": {
    "collapsed": true
   },
   "outputs": [],
   "source": [
    "import os"
   ]
  },
  {
   "cell_type": "code",
   "execution_count": 2,
   "metadata": {},
   "outputs": [
    {
     "name": "stdout",
     "output_type": "stream",
     "text": [
      "cones.csv  \u001b[0m\u001b[01;34mimages_original\u001b[0m/  \u001b[01;34mlabels_new\u001b[0m/  prepare_date.ipynb\r\n",
      "\u001b[01;34mimages\u001b[0m/    \u001b[01;34mlabels\u001b[0m/           \u001b[01;34mlmdb\u001b[0m/\r\n"
     ]
    }
   ],
   "source": [
    "ls"
   ]
  },
  {
   "cell_type": "code",
   "execution_count": 3,
   "metadata": {
    "collapsed": true
   },
   "outputs": [],
   "source": [
    "train_im_folder = './images/train/'\n",
    "train_label_folder = './labels/train/'\n",
    "train_label_folder_target = './labels_new/train'\n",
    "val_im_folder = './images/val/'\n",
    "val_label_folder = './labels/val/'\n",
    "val_label_folder_target = './labels_new/val'\n"
   ]
  },
  {
   "cell_type": "code",
   "execution_count": null,
   "metadata": {
    "collapsed": true
   },
   "outputs": [],
   "source": []
  },
  {
   "cell_type": "code",
   "execution_count": 4,
   "metadata": {
    "collapsed": true
   },
   "outputs": [],
   "source": [
    "for sf, tf in [(train_label_folder, train_label_folder_target), (val_label_folder, val_label_folder_target)]:\n",
    "    files = []\n",
    "    for (dirpath, dirnames, filenames) in os.walk(sf):\n",
    "        files.extend(filenames)\n",
    "        break\n",
    "    for f in files:\n",
    "        with open(os.path.join(sf, f)) as f_train_label,\\\n",
    "            open(os.path.join(tf, f), 'w') as f_train_label_target:\n",
    "            for ft in f_train_label:\n",
    "                ft_raw = ft.split()\n",
    "                s = '{} {} {} {} {}\\n'.format(1, ft_raw[4], ft_raw[5], ft_raw[6], ft_raw[7])\n",
    "                f_train_label_target.write(s)"
   ]
  },
  {
   "cell_type": "code",
   "execution_count": 17,
   "metadata": {},
   "outputs": [
    {
     "data": {
      "text/plain": [
       "['cone',\n",
       " '0',\n",
       " '0',\n",
       " '0',\n",
       " '1148',\n",
       " '463',\n",
       " '1277',\n",
       " '797',\n",
       " '0',\n",
       " '0',\n",
       " '0',\n",
       " '0',\n",
       " '0',\n",
       " '0',\n",
       " '0']"
      ]
     },
     "execution_count": 17,
     "metadata": {},
     "output_type": "execute_result"
    }
   ],
   "source": [
    "lines[0]"
   ]
  },
  {
   "cell_type": "code",
   "execution_count": null,
   "metadata": {
    "collapsed": true
   },
   "outputs": [],
   "source": []
  }
 ],
 "metadata": {
  "kernelspec": {
   "display_name": "Python 2",
   "language": "python",
   "name": "python2"
  },
  "language_info": {
   "codemirror_mode": {
    "name": "ipython",
    "version": 2
   },
   "file_extension": ".py",
   "mimetype": "text/x-python",
   "name": "python",
   "nbconvert_exporter": "python",
   "pygments_lexer": "ipython2",
   "version": "2.7.13"
  }
 },
 "nbformat": 4,
 "nbformat_minor": 2
}
